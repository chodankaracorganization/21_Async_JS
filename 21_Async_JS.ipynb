{
  "nbformat": 4,
  "nbformat_minor": 0,
  "metadata": {
    "colab": {
      "provenance": []
    },
    "kernelspec": {
      "name": "python3",
      "display_name": "Python 3"
    },
    "language_info": {
      "name": "python"
    }
  },
  "cells": [
    {
      "cell_type": "code",
      "execution_count": null,
      "metadata": {
        "id": "yRFsGXhhP8lX"
      },
      "outputs": [],
      "source": [
        "1 Demonstrate JavaScript's Single-Threaded Nature\n",
        "\n",
        "Question:\n",
        "\n",
        "Write an example to show that JavaScript is single-threaded by creating two competing tasks, one that\n",
        "blocks the event loop and another async function that waits for a promise"
      ]
    },
    {
      "cell_type": "code",
      "source": [
        "Demonstrating JavaScript's Single-Threaded Nature\n",
        "\n",
        "Here's an example that shows JavaScript's single-threaded execution by creating:\n",
        "\n",
        "    A blocking synchronous task\n",
        "\n",
        "    An asynchronous promise-based task\n",
        "\n",
        "e.g.\n",
        "console.log(\"Start of script\");\n",
        "\n",
        "// Asynchronous task (Promise-based)\n",
        "const asyncTask = () => {\n",
        "    console.log(\"Async task started\");\n",
        "    return new Promise(resolve => {\n",
        "        setTimeout(() => {\n",
        "            console.log(\"Async task completed\");\n",
        "            resolve();\n",
        "        }, 1000);\n",
        "    });\n",
        "};\n",
        "\n",
        "// Blocking synchronous task\n",
        "const blockingTask = () => {\n",
        "    console.log(\"Blocking task started\");\n",
        "    // Simulate a long-running synchronous operation\n",
        "    const start = Date.now();\n",
        "    while (Date.now() - start < 3000) {\n",
        "        // Blocking the thread for 3 seconds\n",
        "    }\n",
        "    console.log(\"Blocking task completed\");\n",
        "};\n",
        "\n",
        "// Start both tasks\n",
        "asyncTask().then(() => console.log(\"Async task resolved\"));\n",
        "blockingTask();\n",
        "\n",
        "console.log(\"End of script\");\n",
        "\n",
        "Expected Output:\n",
        "text\n",
        "\n",
        "Start of script\n",
        "Async task started\n",
        "Blocking task started\n",
        "Blocking task completed\n",
        "End of script\n",
        "Async task completed\n",
        "Async task resolved\n",
        "\n",
        "Explanation:\n",
        "\n",
        "    The script starts and logs \"Start of script\"\n",
        "\n",
        "    The async task starts and logs \"Async task started\", then sets up a timer\n",
        "\n",
        "    The blocking task starts and holds the thread for 3 seconds\n",
        "\n",
        "    During this blocking period:\n",
        "\n",
        "        The timer for the async task cannot complete because the event loop is blocked\n",
        "\n",
        "        No other code can execute (notice \"End of script\" doesn't log until after blocking ends)\n",
        "\n",
        "    After the blocking task completes, the rest of the script executes\n",
        "\n",
        "    Finally, when the event loop is free, the async task's timer completes\n",
        "\n",
        "This demonstrates that JavaScript can only do one thing at a time in a single thread - while the blocking task runs, nothing else (including async operations) can progress"
      ],
      "metadata": {
        "id": "UpFZiVb0P_0m"
      },
      "execution_count": null,
      "outputs": []
    },
    {
      "cell_type": "markdown",
      "source": [
        "2 Why Does JavaScript Not Execute Asynchronously by Default?\n",
        "\n",
        "Question:\n",
        "\n",
        "JavaScript is often called synchronous and single-threaded, yet it handles asynchronous tasks like AJAX\n",
        "requests, timers, and event listeners\n",
        "a) Explain why JavaScript does not execute asynchronously by default\n",
        "b) Write a code snippet to prove that JavaScript is inherently synchronous"
      ],
      "metadata": {
        "id": "azEUIAUkQNYD"
      }
    },
    {
      "cell_type": "code",
      "source": [
        "Why JavaScript is Synchronous by Default (But Handles Asynchrony)\n",
        "\n",
        "JavaScript's core execution model is synchronous and single-threaded, but it can handle asynchronous operations through its event loop mechanism. Here's why it's not asynchronous by default:\n",
        "Key Reasons:\n",
        "\n",
        "    Simplicity: Synchronous execution is easier to reason about - code executes line by line in predictable order.\n",
        "\n",
        "    Determinism: Guarantees predictable execution flow without race conditions in the main thread.\n",
        "\n",
        "    Historical Design: Originally created for simple browser scripting where complex async wasn't needed.\n",
        "\n",
        "    Event Loop Architecture: Async operations are delegated to browser APIs (or Node.js APIs), then handled via callbacks when the main thread is free.\n",
        "\n",
        "Proof of Synchronous Nature (Code Snippet):\n",
        "\n",
        "console.log(\"Start\");\n",
        "\n",
        "// Synchronous operation\n",
        "for (let i = 0; i < 3; i++) {\n",
        "    console.log(`Sync iteration ${i}`);\n",
        "}\n",
        "\n",
        "// Async operation (setTimeout)\n",
        "setTimeout(() => {\n",
        "    console.log(\"Async timeout completed\");\n",
        "}, 0);\n",
        "\n",
        "console.log(\"End\");\n",
        "\n",
        "Expected Output:\n",
        "\n",
        "Start\n",
        "Sync iteration 0\n",
        "Sync iteration 1\n",
        "Sync iteration 2\n",
        "End\n",
        "Async timeout completed\n",
        "\n",
        "Why the Output Shows Synchronous Behavior:\n",
        "\n",
        "    All synchronous code runs to completion first\n",
        "\n",
        "    The setTimeout callback (even with 0ms delay) waits until:\n",
        "\n",
        "        The call stack is empty\n",
        "\n",
        "        All synchronous code finishes\n",
        "\n",
        "    This proves JavaScript's default synchronous execution - async operations can't interrupt synchronous code\n",
        "\n",
        "How Async Operations Work Behind the Scenes:\n",
        "\n",
        "    When encountering setTimeout, fetch, etc., JavaScript delegates these to:\n",
        "\n",
        "        Browser Web APIs (in browsers)\n",
        "\n",
        "        libuv (in Node.js)\n",
        "\n",
        "    The main thread continues executing synchronous code\n",
        "\n",
        "    When async operations complete, their callbacks go to the callback queue\n",
        "\n",
        "    The event loop pushes callbacks to the call stack only when it's empty\n",
        "\n",
        "This architecture gives the illusion of asynchrony while maintaining synchronous execution by default."
      ],
      "metadata": {
        "id": "zemRHMTOQgCO"
      },
      "execution_count": null,
      "outputs": []
    },
    {
      "cell_type": "markdown",
      "source": [
        "3.chaining Promises with setTimeout\n",
        "\n",
        "Modify the delay function to chain multiple promises so that three messages are logged in sequence with\n",
        "delay."
      ],
      "metadata": {
        "id": "2Nw04MoMwVSH"
      }
    },
    {
      "cell_type": "code",
      "source": [
        "function delay(message, time) {\n",
        "  return new Promise((resolve) => {\n",
        "    setTimeout(() => {\n",
        "      console.log(message);\n",
        "        resolve();\n",
        "    }, time);\n",
        "  });\n",
        "}\n",
        "\n",
        "delay(\"First message\", 1000)\n",
        "  .then(() => delay(\"Second message\", 2000))\n",
        "  .then(() => delay(\"Third message\", 2000))\n",
        "  .then(() => console.log(\"All logged!\"));\n"
      ],
      "metadata": {
        "id": "GuIVevrKKAgP"
      },
      "execution_count": null,
      "outputs": []
    },
    {
      "cell_type": "markdown",
      "source": [
        "4.What are the different states of a Promise, and how do they transition."
      ],
      "metadata": {
        "id": "iEDkpWnITNkg"
      }
    },
    {
      "cell_type": "code",
      "source": [
        "In JavaScript, a Promise can be in one of three states:\n",
        "\n",
        "    Pending\n",
        "\n",
        "        Initial state, neither fulfilled nor rejected.\n",
        "\n",
        "        The asynchronous operation is still in progress.\n",
        "\n",
        "    Fulfilled (Resolved)\n",
        "\n",
        "        The operation completed successfully.\n",
        "\n",
        "        The Promise now has a resolved value (value).\n",
        "\n",
        "        Transitions from Pending using resolve(value).\n",
        "\n",
        "    Rejected\n",
        "\n",
        "        The operation failed.\n",
        "\n",
        "        The Promise now has a rejection reason (error).\n",
        "\n",
        "        Transitions from Pending using reject(error)."
      ],
      "metadata": {
        "id": "xZ4_hqitSaFQ"
      },
      "execution_count": null,
      "outputs": []
    },
    {
      "cell_type": "code",
      "source": [
        "const promise = new Promise((resolve, reject) => {\n",
        "  setTimeout(() => {\n",
        "    const success = true; // Simulate success/failure\n",
        "    if (success) {\n",
        "      resolve(\"Operation succeeded!\"); // Transition to Fulfilled\n",
        "    } else {\n",
        "      reject(new Error(\"Operation failed!\")); // Transition to Rejected\n",
        "    }\n",
        "  }, 1000);\n",
        "});\n",
        "\n",
        "promise\n",
        "  .then((value) => console.log(value)) // Handles Fulfilled state\n",
        "  .catch((error) => console.error(error)); // Handles Rejected state"
      ],
      "metadata": {
        "id": "hfjAd1C5StGX"
      },
      "execution_count": null,
      "outputs": []
    },
    {
      "cell_type": "markdown",
      "source": [
        "Key Points:\n",
        "\n",
        "    A Promise is settled if it's either fulfilled or rejected (no longer pending).\n",
        "\n",
        "    .then() handles fulfillment, .catch() handles rejection, and .finally() runs in both cases.\n",
        "\n",
        "    Once settled, the state and value/reason cannot change."
      ],
      "metadata": {
        "id": "_PUjseOTS1xl"
      }
    },
    {
      "cell_type": "markdown",
      "source": [
        "5.How does the JavaScript event loop handle Promises differently from setTimeout?"
      ],
      "metadata": {
        "id": "X2gi4PGNTQOi"
      }
    },
    {
      "cell_type": "code",
      "source": [
        "Difference between Promises and setTimeout in the Event Loop\n",
        "\n",
        "    JavaScript has two main queues:\n",
        "\n",
        "        Microtask Queue – Runs immediately after the current code finishes.\n",
        "\n",
        "        Macrotask Queue – Runs later, after all microtasks are done.\n",
        "\n",
        "    Promise callbacks (then, catch, finally) go into the Microtask Queue.\n",
        "\n",
        "    setTimeout callbacks go into the Macrotask Queue.\n",
        "\n",
        "Execution Order:\n",
        "\n",
        "    Run all normal (synchronous) code.\n",
        "\n",
        "    Run all microtasks (Promises).\n",
        "\n",
        "    Run the next macrotask (setTimeout)."
      ],
      "metadata": {
        "id": "Sldvd-K7Y6rt"
      },
      "execution_count": null,
      "outputs": []
    },
    {
      "cell_type": "code",
      "source": [
        "console.log(\"Start\");\n",
        "\n",
        "setTimeout(() => {\n",
        "  console.log(\"Timeout callback\");\n",
        "}, 0);\n",
        "\n",
        "Promise.resolve().then(() => {\n",
        "  console.log(\"Promise callback\");\n",
        "});\n",
        "\n",
        "console.log(\"End\");"
      ],
      "metadata": {
        "id": "kjQ9rjjeZhpm"
      },
      "execution_count": null,
      "outputs": []
    },
    {
      "cell_type": "code",
      "source": [
        "output-\n",
        "Start\n",
        "End\n",
        "Promise callback\n",
        "Timeout callback"
      ],
      "metadata": {
        "id": "xtxP_ZuFZmSq"
      },
      "execution_count": null,
      "outputs": []
    }
  ]
}